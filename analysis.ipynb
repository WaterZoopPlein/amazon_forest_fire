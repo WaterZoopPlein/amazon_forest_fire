{
 "cells": [
  {
   "cell_type": "code",
   "execution_count": 1,
   "metadata": {},
   "outputs": [],
   "source": [
    "import pandas as pd\n",
    "import numpy as np"
   ]
  },
  {
   "cell_type": "markdown",
   "metadata": {},
   "source": [
    "# Table of contents\n",
    "1. [Importing data](#Importing-data)\n",
    "2. [Cleaning data](#Cleaning-data)\n",
    "    1. [Cleaning date times](#Cleaning-date-times)\n",
    "        1. [Month column](#Month-column)\n",
    "        2. [Date column](#Date-column)\n",
    "    2. [Cleaning state column](#Cleaning-state-column)\n",
    "        1. [Duplicates](#Duplicates)\n",
    "        2. [Mato Grosso and Paraiba](#Mato-Grosso-and-Paraiba)\n",
    "        3. [Rio states](#Rio-states)\n",
    "        4. [Assign state codes](#Assign-state-codes)"
   ]
  },
  {
   "cell_type": "markdown",
   "metadata": {},
   "source": [
    "# Importing data"
   ]
  },
  {
   "cell_type": "code",
   "execution_count": 2,
   "metadata": {},
   "outputs": [],
   "source": [
    "df = pd.read_csv('data/amazon.csv', encoding='ansi')"
   ]
  },
  {
   "cell_type": "code",
   "execution_count": 3,
   "metadata": {
    "scrolled": true
   },
   "outputs": [
    {
     "data": {
      "text/html": [
       "<div>\n",
       "<style scoped>\n",
       "    .dataframe tbody tr th:only-of-type {\n",
       "        vertical-align: middle;\n",
       "    }\n",
       "\n",
       "    .dataframe tbody tr th {\n",
       "        vertical-align: top;\n",
       "    }\n",
       "\n",
       "    .dataframe thead th {\n",
       "        text-align: right;\n",
       "    }\n",
       "</style>\n",
       "<table border=\"1\" class=\"dataframe\">\n",
       "  <thead>\n",
       "    <tr style=\"text-align: right;\">\n",
       "      <th></th>\n",
       "      <th>year</th>\n",
       "      <th>state</th>\n",
       "      <th>month</th>\n",
       "      <th>number</th>\n",
       "      <th>date</th>\n",
       "    </tr>\n",
       "  </thead>\n",
       "  <tbody>\n",
       "    <tr>\n",
       "      <th>655</th>\n",
       "      <td>2014</td>\n",
       "      <td>Amapa</td>\n",
       "      <td>Setembro</td>\n",
       "      <td>137.0</td>\n",
       "      <td>2014-01-01</td>\n",
       "    </tr>\n",
       "    <tr>\n",
       "      <th>4974</th>\n",
       "      <td>2011</td>\n",
       "      <td>Rio</td>\n",
       "      <td>Outubro</td>\n",
       "      <td>74.0</td>\n",
       "      <td>2011-01-01</td>\n",
       "    </tr>\n",
       "    <tr>\n",
       "      <th>5071</th>\n",
       "      <td>2009</td>\n",
       "      <td>Rondonia</td>\n",
       "      <td>Março</td>\n",
       "      <td>12.0</td>\n",
       "      <td>2009-01-01</td>\n",
       "    </tr>\n",
       "    <tr>\n",
       "      <th>2763</th>\n",
       "      <td>2011</td>\n",
       "      <td>Mato Grosso</td>\n",
       "      <td>Julho</td>\n",
       "      <td>250.0</td>\n",
       "      <td>2011-01-01</td>\n",
       "    </tr>\n",
       "    <tr>\n",
       "      <th>3669</th>\n",
       "      <td>2001</td>\n",
       "      <td>Paraiba</td>\n",
       "      <td>Maio</td>\n",
       "      <td>26.0</td>\n",
       "      <td>2001-01-01</td>\n",
       "    </tr>\n",
       "  </tbody>\n",
       "</table>\n",
       "</div>"
      ],
      "text/plain": [
       "      year        state     month  number        date\n",
       "655   2014        Amapa  Setembro   137.0  2014-01-01\n",
       "4974  2011          Rio   Outubro    74.0  2011-01-01\n",
       "5071  2009     Rondonia     Março    12.0  2009-01-01\n",
       "2763  2011  Mato Grosso     Julho   250.0  2011-01-01\n",
       "3669  2001      Paraiba      Maio    26.0  2001-01-01"
      ]
     },
     "execution_count": 3,
     "metadata": {},
     "output_type": "execute_result"
    }
   ],
   "source": [
    "df.sample(5)"
   ]
  },
  {
   "cell_type": "code",
   "execution_count": 4,
   "metadata": {},
   "outputs": [
    {
     "name": "stdout",
     "output_type": "stream",
     "text": [
      "<class 'pandas.core.frame.DataFrame'>\n",
      "RangeIndex: 6454 entries, 0 to 6453\n",
      "Data columns (total 5 columns):\n",
      " #   Column  Non-Null Count  Dtype  \n",
      "---  ------  --------------  -----  \n",
      " 0   year    6454 non-null   int64  \n",
      " 1   state   6454 non-null   object \n",
      " 2   month   6454 non-null   object \n",
      " 3   number  6454 non-null   float64\n",
      " 4   date    6454 non-null   object \n",
      "dtypes: float64(1), int64(1), object(3)\n",
      "memory usage: 252.2+ KB\n"
     ]
    }
   ],
   "source": [
    "df.info()"
   ]
  },
  {
   "cell_type": "markdown",
   "metadata": {},
   "source": [
    "# Cleaning data"
   ]
  },
  {
   "cell_type": "markdown",
   "metadata": {},
   "source": [
    "## Cleaning date times"
   ]
  },
  {
   "cell_type": "markdown",
   "metadata": {},
   "source": [
    "### Month column"
   ]
  },
  {
   "cell_type": "markdown",
   "metadata": {},
   "source": [
    "The month column contains month in Portugese. It will be easier if the column is converted to numerical value"
   ]
  },
  {
   "cell_type": "code",
   "execution_count": 5,
   "metadata": {},
   "outputs": [],
   "source": [
    "months_in_portugese = {'Janeiro':1, 'Fevereiro':2, 'Março':3, \n",
    "                      'Abril':4, 'Maio':5, 'Junho':6,\n",
    "                      'Julho':7, 'Agosto':8, 'Setembro':9,\n",
    "                      'Outubro':10, 'Novembro':11, 'Dezembro':12}"
   ]
  },
  {
   "cell_type": "code",
   "execution_count": 6,
   "metadata": {},
   "outputs": [],
   "source": [
    "df['month'] = df['month'].map(months_in_portugese)"
   ]
  },
  {
   "cell_type": "code",
   "execution_count": 7,
   "metadata": {},
   "outputs": [
    {
     "data": {
      "text/html": [
       "<div>\n",
       "<style scoped>\n",
       "    .dataframe tbody tr th:only-of-type {\n",
       "        vertical-align: middle;\n",
       "    }\n",
       "\n",
       "    .dataframe tbody tr th {\n",
       "        vertical-align: top;\n",
       "    }\n",
       "\n",
       "    .dataframe thead th {\n",
       "        text-align: right;\n",
       "    }\n",
       "</style>\n",
       "<table border=\"1\" class=\"dataframe\">\n",
       "  <thead>\n",
       "    <tr style=\"text-align: right;\">\n",
       "      <th></th>\n",
       "      <th>year</th>\n",
       "      <th>state</th>\n",
       "      <th>month</th>\n",
       "      <th>number</th>\n",
       "      <th>date</th>\n",
       "    </tr>\n",
       "  </thead>\n",
       "  <tbody>\n",
       "    <tr>\n",
       "      <th>1760</th>\n",
       "      <td>2004</td>\n",
       "      <td>Espirito Santo</td>\n",
       "      <td>5</td>\n",
       "      <td>0.0</td>\n",
       "      <td>2004-01-01</td>\n",
       "    </tr>\n",
       "    <tr>\n",
       "      <th>1505</th>\n",
       "      <td>2008</td>\n",
       "      <td>Distrito Federal</td>\n",
       "      <td>4</td>\n",
       "      <td>1.0</td>\n",
       "      <td>2008-01-01</td>\n",
       "    </tr>\n",
       "    <tr>\n",
       "      <th>4536</th>\n",
       "      <td>2011</td>\n",
       "      <td>Rio</td>\n",
       "      <td>12</td>\n",
       "      <td>3.0</td>\n",
       "      <td>2011-01-01</td>\n",
       "    </tr>\n",
       "    <tr>\n",
       "      <th>4093</th>\n",
       "      <td>2007</td>\n",
       "      <td>Piau</td>\n",
       "      <td>2</td>\n",
       "      <td>11.0</td>\n",
       "      <td>2007-01-01</td>\n",
       "    </tr>\n",
       "    <tr>\n",
       "      <th>5062</th>\n",
       "      <td>2000</td>\n",
       "      <td>Rondonia</td>\n",
       "      <td>3</td>\n",
       "      <td>9.0</td>\n",
       "      <td>2000-01-01</td>\n",
       "    </tr>\n",
       "  </tbody>\n",
       "</table>\n",
       "</div>"
      ],
      "text/plain": [
       "      year             state  month  number        date\n",
       "1760  2004    Espirito Santo      5     0.0  2004-01-01\n",
       "1505  2008  Distrito Federal      4     1.0  2008-01-01\n",
       "4536  2011               Rio     12     3.0  2011-01-01\n",
       "4093  2007              Piau      2    11.0  2007-01-01\n",
       "5062  2000          Rondonia      3     9.0  2000-01-01"
      ]
     },
     "execution_count": 7,
     "metadata": {},
     "output_type": "execute_result"
    }
   ],
   "source": [
    "df.sample(5)"
   ]
  },
  {
   "cell_type": "code",
   "execution_count": 8,
   "metadata": {},
   "outputs": [
    {
     "name": "stdout",
     "output_type": "stream",
     "text": [
      "<class 'pandas.core.frame.DataFrame'>\n",
      "RangeIndex: 6454 entries, 0 to 6453\n",
      "Data columns (total 5 columns):\n",
      " #   Column  Non-Null Count  Dtype  \n",
      "---  ------  --------------  -----  \n",
      " 0   year    6454 non-null   int64  \n",
      " 1   state   6454 non-null   object \n",
      " 2   month   6454 non-null   int64  \n",
      " 3   number  6454 non-null   float64\n",
      " 4   date    6454 non-null   object \n",
      "dtypes: float64(1), int64(2), object(2)\n",
      "memory usage: 252.2+ KB\n"
     ]
    }
   ],
   "source": [
    "df.info()"
   ]
  },
  {
   "cell_type": "markdown",
   "metadata": {},
   "source": [
    "### Date column"
   ]
  },
  {
   "cell_type": "code",
   "execution_count": 9,
   "metadata": {},
   "outputs": [],
   "source": [
    "df['date'] = pd.to_datetime(df['date'])"
   ]
  },
  {
   "cell_type": "code",
   "execution_count": 10,
   "metadata": {},
   "outputs": [
    {
     "name": "stdout",
     "output_type": "stream",
     "text": [
      "<class 'pandas.core.frame.DataFrame'>\n",
      "RangeIndex: 6454 entries, 0 to 6453\n",
      "Data columns (total 5 columns):\n",
      " #   Column  Non-Null Count  Dtype         \n",
      "---  ------  --------------  -----         \n",
      " 0   year    6454 non-null   int64         \n",
      " 1   state   6454 non-null   object        \n",
      " 2   month   6454 non-null   int64         \n",
      " 3   number  6454 non-null   float64       \n",
      " 4   date    6454 non-null   datetime64[ns]\n",
      "dtypes: datetime64[ns](1), float64(1), int64(2), object(1)\n",
      "memory usage: 252.2+ KB\n"
     ]
    }
   ],
   "source": [
    "df.info()"
   ]
  },
  {
   "cell_type": "markdown",
   "metadata": {},
   "source": [
    "## Cleaning state column"
   ]
  },
  {
   "cell_type": "markdown",
   "metadata": {},
   "source": [
    "### Duplicates"
   ]
  },
  {
   "cell_type": "markdown",
   "metadata": {},
   "source": [
    "There are multiple issues with state column due to bad data entry. \n",
    "\n",
    "* There are three 'Rio' states - Rio de Janeiro, Rio Grande do Norte, Rio Grande do Sul. The data has entries for all three, but only has 'Rio' label\n",
    "* There are Mato Grosso and Mato Grosso do Sul. The data labels Mato Grosso for entries from both state.\n",
    "* Same things happen for Paraiba and Parana. Both entries from the state are labeled Paraiba\n",
    "\n",
    "Reference to list of all Brazilian states - https://en.wikipedia.org/wiki/Federative_units_of_Brazil"
   ]
  },
  {
   "cell_type": "code",
   "execution_count": 11,
   "metadata": {},
   "outputs": [
    {
     "data": {
      "text/plain": [
       "array(['Acre', 'Alagoas', 'Amapa', 'Amazonas', 'Bahia', 'Ceara',\n",
       "       'Distrito Federal', 'Espirito Santo', 'Goias', 'Maranhao',\n",
       "       'Mato Grosso', 'Minas Gerais', 'Pará', 'Paraiba', 'Pernambuco',\n",
       "       'Piau', 'Rio', 'Rondonia', 'Roraima', 'Santa Catarina',\n",
       "       'Sao Paulo', 'Sergipe', 'Tocantins'], dtype=object)"
      ]
     },
     "execution_count": 11,
     "metadata": {},
     "output_type": "execute_result"
    }
   ],
   "source": [
    "df['state'].unique()"
   ]
  },
  {
   "cell_type": "code",
   "execution_count": 12,
   "metadata": {
    "collapsed": true
   },
   "outputs": [
    {
     "data": {
      "text/html": [
       "<div>\n",
       "<style scoped>\n",
       "    .dataframe tbody tr th:only-of-type {\n",
       "        vertical-align: middle;\n",
       "    }\n",
       "\n",
       "    .dataframe tbody tr th {\n",
       "        vertical-align: top;\n",
       "    }\n",
       "\n",
       "    .dataframe thead th {\n",
       "        text-align: right;\n",
       "    }\n",
       "</style>\n",
       "<table border=\"1\" class=\"dataframe\">\n",
       "  <thead>\n",
       "    <tr style=\"text-align: right;\">\n",
       "      <th></th>\n",
       "      <th>year</th>\n",
       "      <th>state</th>\n",
       "      <th>month</th>\n",
       "      <th>number</th>\n",
       "      <th>date</th>\n",
       "    </tr>\n",
       "  </thead>\n",
       "  <tbody>\n",
       "    <tr>\n",
       "      <th>258</th>\n",
       "      <td>2017</td>\n",
       "      <td>Alagoas</td>\n",
       "      <td>1</td>\n",
       "      <td>38.0</td>\n",
       "      <td>2017-01-01</td>\n",
       "    </tr>\n",
       "    <tr>\n",
       "      <th>259</th>\n",
       "      <td>2017</td>\n",
       "      <td>Alagoas</td>\n",
       "      <td>1</td>\n",
       "      <td>38.0</td>\n",
       "      <td>2017-01-01</td>\n",
       "    </tr>\n",
       "    <tr>\n",
       "      <th>2391</th>\n",
       "      <td>1998</td>\n",
       "      <td>Mato Grosso</td>\n",
       "      <td>1</td>\n",
       "      <td>0.0</td>\n",
       "      <td>1998-01-01</td>\n",
       "    </tr>\n",
       "    <tr>\n",
       "      <th>2392</th>\n",
       "      <td>1999</td>\n",
       "      <td>Mato Grosso</td>\n",
       "      <td>1</td>\n",
       "      <td>39.0</td>\n",
       "      <td>1999-01-01</td>\n",
       "    </tr>\n",
       "    <tr>\n",
       "      <th>2393</th>\n",
       "      <td>2000</td>\n",
       "      <td>Mato Grosso</td>\n",
       "      <td>1</td>\n",
       "      <td>44.0</td>\n",
       "      <td>2000-01-01</td>\n",
       "    </tr>\n",
       "    <tr>\n",
       "      <th>...</th>\n",
       "      <td>...</td>\n",
       "      <td>...</td>\n",
       "      <td>...</td>\n",
       "      <td>...</td>\n",
       "      <td>...</td>\n",
       "    </tr>\n",
       "    <tr>\n",
       "      <th>5015</th>\n",
       "      <td>2012</td>\n",
       "      <td>Rio</td>\n",
       "      <td>12</td>\n",
       "      <td>38.0</td>\n",
       "      <td>2012-01-01</td>\n",
       "    </tr>\n",
       "    <tr>\n",
       "      <th>5016</th>\n",
       "      <td>2013</td>\n",
       "      <td>Rio</td>\n",
       "      <td>12</td>\n",
       "      <td>62.0</td>\n",
       "      <td>2013-01-01</td>\n",
       "    </tr>\n",
       "    <tr>\n",
       "      <th>5017</th>\n",
       "      <td>2014</td>\n",
       "      <td>Rio</td>\n",
       "      <td>12</td>\n",
       "      <td>31.0</td>\n",
       "      <td>2014-01-01</td>\n",
       "    </tr>\n",
       "    <tr>\n",
       "      <th>5018</th>\n",
       "      <td>2015</td>\n",
       "      <td>Rio</td>\n",
       "      <td>12</td>\n",
       "      <td>42.0</td>\n",
       "      <td>2015-01-01</td>\n",
       "    </tr>\n",
       "    <tr>\n",
       "      <th>5019</th>\n",
       "      <td>2016</td>\n",
       "      <td>Rio</td>\n",
       "      <td>12</td>\n",
       "      <td>79.0</td>\n",
       "      <td>2016-01-01</td>\n",
       "    </tr>\n",
       "  </tbody>\n",
       "</table>\n",
       "<p>1675 rows × 5 columns</p>\n",
       "</div>"
      ],
      "text/plain": [
       "      year        state  month  number       date\n",
       "258   2017      Alagoas      1    38.0 2017-01-01\n",
       "259   2017      Alagoas      1    38.0 2017-01-01\n",
       "2391  1998  Mato Grosso      1     0.0 1998-01-01\n",
       "2392  1999  Mato Grosso      1    39.0 1999-01-01\n",
       "2393  2000  Mato Grosso      1    44.0 2000-01-01\n",
       "...    ...          ...    ...     ...        ...\n",
       "5015  2012          Rio     12    38.0 2012-01-01\n",
       "5016  2013          Rio     12    62.0 2013-01-01\n",
       "5017  2014          Rio     12    31.0 2014-01-01\n",
       "5018  2015          Rio     12    42.0 2015-01-01\n",
       "5019  2016          Rio     12    79.0 2016-01-01\n",
       "\n",
       "[1675 rows x 5 columns]"
      ]
     },
     "execution_count": 12,
     "metadata": {},
     "output_type": "execute_result"
    }
   ],
   "source": [
    "df[df.duplicated(subset=['state','year','month'], keep=False)==True]"
   ]
  },
  {
   "cell_type": "code",
   "execution_count": 13,
   "metadata": {},
   "outputs": [
    {
     "data": {
      "text/plain": [
       "array(['Alagoas', 'Mato Grosso', 'Paraiba', 'Rio'], dtype=object)"
      ]
     },
     "execution_count": 13,
     "metadata": {},
     "output_type": "execute_result"
    }
   ],
   "source": [
    "df[df.duplicated(subset=['state','year','month'], keep=False)==True]['state'].unique()"
   ]
  },
  {
   "cell_type": "markdown",
   "metadata": {},
   "source": [
    "There is one duplicate entry for Alagoas. Dropping one of the entry."
   ]
  },
  {
   "cell_type": "code",
   "execution_count": 14,
   "metadata": {},
   "outputs": [],
   "source": [
    "df.drop(258, inplace=True)"
   ]
  },
  {
   "cell_type": "code",
   "execution_count": 15,
   "metadata": {},
   "outputs": [
    {
     "data": {
      "text/html": [
       "<div>\n",
       "<style scoped>\n",
       "    .dataframe tbody tr th:only-of-type {\n",
       "        vertical-align: middle;\n",
       "    }\n",
       "\n",
       "    .dataframe tbody tr th {\n",
       "        vertical-align: top;\n",
       "    }\n",
       "\n",
       "    .dataframe thead th {\n",
       "        text-align: right;\n",
       "    }\n",
       "</style>\n",
       "<table border=\"1\" class=\"dataframe\">\n",
       "  <thead>\n",
       "    <tr style=\"text-align: right;\">\n",
       "      <th></th>\n",
       "      <th>year</th>\n",
       "      <th>state</th>\n",
       "      <th>month</th>\n",
       "      <th>number</th>\n",
       "      <th>date</th>\n",
       "    </tr>\n",
       "  </thead>\n",
       "  <tbody>\n",
       "    <tr>\n",
       "      <th>255</th>\n",
       "      <td>2014</td>\n",
       "      <td>Alagoas</td>\n",
       "      <td>1</td>\n",
       "      <td>54.0</td>\n",
       "      <td>2014-01-01</td>\n",
       "    </tr>\n",
       "    <tr>\n",
       "      <th>256</th>\n",
       "      <td>2015</td>\n",
       "      <td>Alagoas</td>\n",
       "      <td>1</td>\n",
       "      <td>81.0</td>\n",
       "      <td>2015-01-01</td>\n",
       "    </tr>\n",
       "    <tr>\n",
       "      <th>257</th>\n",
       "      <td>2016</td>\n",
       "      <td>Alagoas</td>\n",
       "      <td>1</td>\n",
       "      <td>24.0</td>\n",
       "      <td>2016-01-01</td>\n",
       "    </tr>\n",
       "    <tr>\n",
       "      <th>259</th>\n",
       "      <td>2017</td>\n",
       "      <td>Alagoas</td>\n",
       "      <td>1</td>\n",
       "      <td>38.0</td>\n",
       "      <td>2017-01-01</td>\n",
       "    </tr>\n",
       "    <tr>\n",
       "      <th>260</th>\n",
       "      <td>1998</td>\n",
       "      <td>Alagoas</td>\n",
       "      <td>2</td>\n",
       "      <td>0.0</td>\n",
       "      <td>1998-01-01</td>\n",
       "    </tr>\n",
       "  </tbody>\n",
       "</table>\n",
       "</div>"
      ],
      "text/plain": [
       "     year    state  month  number       date\n",
       "255  2014  Alagoas      1    54.0 2014-01-01\n",
       "256  2015  Alagoas      1    81.0 2015-01-01\n",
       "257  2016  Alagoas      1    24.0 2016-01-01\n",
       "259  2017  Alagoas      1    38.0 2017-01-01\n",
       "260  1998  Alagoas      2     0.0 1998-01-01"
      ]
     },
     "execution_count": 15,
     "metadata": {},
     "output_type": "execute_result"
    }
   ],
   "source": [
    "df.iloc[255:260]"
   ]
  },
  {
   "cell_type": "code",
   "execution_count": 16,
   "metadata": {},
   "outputs": [],
   "source": [
    "df.reset_index(inplace=True, drop=True)"
   ]
  },
  {
   "cell_type": "code",
   "execution_count": 17,
   "metadata": {},
   "outputs": [
    {
     "data": {
      "text/html": [
       "<div>\n",
       "<style scoped>\n",
       "    .dataframe tbody tr th:only-of-type {\n",
       "        vertical-align: middle;\n",
       "    }\n",
       "\n",
       "    .dataframe tbody tr th {\n",
       "        vertical-align: top;\n",
       "    }\n",
       "\n",
       "    .dataframe thead th {\n",
       "        text-align: right;\n",
       "    }\n",
       "</style>\n",
       "<table border=\"1\" class=\"dataframe\">\n",
       "  <thead>\n",
       "    <tr style=\"text-align: right;\">\n",
       "      <th></th>\n",
       "      <th>year</th>\n",
       "      <th>state</th>\n",
       "      <th>month</th>\n",
       "      <th>number</th>\n",
       "      <th>date</th>\n",
       "    </tr>\n",
       "  </thead>\n",
       "  <tbody>\n",
       "    <tr>\n",
       "      <th>255</th>\n",
       "      <td>2014</td>\n",
       "      <td>Alagoas</td>\n",
       "      <td>1</td>\n",
       "      <td>54.0</td>\n",
       "      <td>2014-01-01</td>\n",
       "    </tr>\n",
       "    <tr>\n",
       "      <th>256</th>\n",
       "      <td>2015</td>\n",
       "      <td>Alagoas</td>\n",
       "      <td>1</td>\n",
       "      <td>81.0</td>\n",
       "      <td>2015-01-01</td>\n",
       "    </tr>\n",
       "    <tr>\n",
       "      <th>257</th>\n",
       "      <td>2016</td>\n",
       "      <td>Alagoas</td>\n",
       "      <td>1</td>\n",
       "      <td>24.0</td>\n",
       "      <td>2016-01-01</td>\n",
       "    </tr>\n",
       "    <tr>\n",
       "      <th>258</th>\n",
       "      <td>2017</td>\n",
       "      <td>Alagoas</td>\n",
       "      <td>1</td>\n",
       "      <td>38.0</td>\n",
       "      <td>2017-01-01</td>\n",
       "    </tr>\n",
       "    <tr>\n",
       "      <th>259</th>\n",
       "      <td>1998</td>\n",
       "      <td>Alagoas</td>\n",
       "      <td>2</td>\n",
       "      <td>0.0</td>\n",
       "      <td>1998-01-01</td>\n",
       "    </tr>\n",
       "  </tbody>\n",
       "</table>\n",
       "</div>"
      ],
      "text/plain": [
       "     year    state  month  number       date\n",
       "255  2014  Alagoas      1    54.0 2014-01-01\n",
       "256  2015  Alagoas      1    81.0 2015-01-01\n",
       "257  2016  Alagoas      1    24.0 2016-01-01\n",
       "258  2017  Alagoas      1    38.0 2017-01-01\n",
       "259  1998  Alagoas      2     0.0 1998-01-01"
      ]
     },
     "execution_count": 17,
     "metadata": {},
     "output_type": "execute_result"
    }
   ],
   "source": [
    "df.iloc[255:260]"
   ]
  },
  {
   "cell_type": "markdown",
   "metadata": {},
   "source": [
    "### Mato Grosso and Paraiba"
   ]
  },
  {
   "cell_type": "markdown",
   "metadata": {},
   "source": [
    "Strategy -\n",
    "\n",
    "* Take the lower half of duplicated Mato Grosso and Paraiba\n",
    "* Rename it to there equivalent supposedly next alphabetic state (eg. Mato Grosso --> Mato Grosso do Sul, Paraiba --> Parana)\n",
    "\n",
    "duplicate = same place (state), same time (year and month)"
   ]
  },
  {
   "cell_type": "markdown",
   "metadata": {},
   "source": [
    "**Mato Grosso and Mato Grosso do Sul** "
   ]
  },
  {
   "cell_type": "code",
   "execution_count": 18,
   "metadata": {
    "collapsed": true
   },
   "outputs": [
    {
     "data": {
      "text/html": [
       "<div>\n",
       "<style scoped>\n",
       "    .dataframe tbody tr th:only-of-type {\n",
       "        vertical-align: middle;\n",
       "    }\n",
       "\n",
       "    .dataframe tbody tr th {\n",
       "        vertical-align: top;\n",
       "    }\n",
       "\n",
       "    .dataframe thead th {\n",
       "        text-align: right;\n",
       "    }\n",
       "</style>\n",
       "<table border=\"1\" class=\"dataframe\">\n",
       "  <thead>\n",
       "    <tr style=\"text-align: right;\">\n",
       "      <th></th>\n",
       "      <th>year</th>\n",
       "      <th>state</th>\n",
       "      <th>month</th>\n",
       "      <th>number</th>\n",
       "      <th>date</th>\n",
       "    </tr>\n",
       "  </thead>\n",
       "  <tbody>\n",
       "    <tr>\n",
       "      <th>2629</th>\n",
       "      <td>1998</td>\n",
       "      <td>Mato Grosso</td>\n",
       "      <td>1</td>\n",
       "      <td>0.0</td>\n",
       "      <td>1998-01-01</td>\n",
       "    </tr>\n",
       "    <tr>\n",
       "      <th>2630</th>\n",
       "      <td>1999</td>\n",
       "      <td>Mato Grosso</td>\n",
       "      <td>1</td>\n",
       "      <td>239.0</td>\n",
       "      <td>1999-01-01</td>\n",
       "    </tr>\n",
       "    <tr>\n",
       "      <th>2631</th>\n",
       "      <td>2000</td>\n",
       "      <td>Mato Grosso</td>\n",
       "      <td>1</td>\n",
       "      <td>326.0</td>\n",
       "      <td>2000-01-01</td>\n",
       "    </tr>\n",
       "    <tr>\n",
       "      <th>2632</th>\n",
       "      <td>2001</td>\n",
       "      <td>Mato Grosso</td>\n",
       "      <td>1</td>\n",
       "      <td>97.0</td>\n",
       "      <td>2001-01-01</td>\n",
       "    </tr>\n",
       "    <tr>\n",
       "      <th>2633</th>\n",
       "      <td>2002</td>\n",
       "      <td>Mato Grosso</td>\n",
       "      <td>1</td>\n",
       "      <td>304.0</td>\n",
       "      <td>2002-01-01</td>\n",
       "    </tr>\n",
       "    <tr>\n",
       "      <th>...</th>\n",
       "      <td>...</td>\n",
       "      <td>...</td>\n",
       "      <td>...</td>\n",
       "      <td>...</td>\n",
       "      <td>...</td>\n",
       "    </tr>\n",
       "    <tr>\n",
       "      <th>2863</th>\n",
       "      <td>2012</td>\n",
       "      <td>Mato Grosso</td>\n",
       "      <td>12</td>\n",
       "      <td>194.0</td>\n",
       "      <td>2012-01-01</td>\n",
       "    </tr>\n",
       "    <tr>\n",
       "      <th>2864</th>\n",
       "      <td>2013</td>\n",
       "      <td>Mato Grosso</td>\n",
       "      <td>12</td>\n",
       "      <td>195.0</td>\n",
       "      <td>2013-01-01</td>\n",
       "    </tr>\n",
       "    <tr>\n",
       "      <th>2865</th>\n",
       "      <td>2014</td>\n",
       "      <td>Mato Grosso</td>\n",
       "      <td>12</td>\n",
       "      <td>84.0</td>\n",
       "      <td>2014-01-01</td>\n",
       "    </tr>\n",
       "    <tr>\n",
       "      <th>2866</th>\n",
       "      <td>2015</td>\n",
       "      <td>Mato Grosso</td>\n",
       "      <td>12</td>\n",
       "      <td>394.0</td>\n",
       "      <td>2015-01-01</td>\n",
       "    </tr>\n",
       "    <tr>\n",
       "      <th>2867</th>\n",
       "      <td>2016</td>\n",
       "      <td>Mato Grosso</td>\n",
       "      <td>12</td>\n",
       "      <td>123.0</td>\n",
       "      <td>2016-01-01</td>\n",
       "    </tr>\n",
       "  </tbody>\n",
       "</table>\n",
       "<p>239 rows × 5 columns</p>\n",
       "</div>"
      ],
      "text/plain": [
       "      year        state  month  number       date\n",
       "2629  1998  Mato Grosso      1     0.0 1998-01-01\n",
       "2630  1999  Mato Grosso      1   239.0 1999-01-01\n",
       "2631  2000  Mato Grosso      1   326.0 2000-01-01\n",
       "2632  2001  Mato Grosso      1    97.0 2001-01-01\n",
       "2633  2002  Mato Grosso      1   304.0 2002-01-01\n",
       "...    ...          ...    ...     ...        ...\n",
       "2863  2012  Mato Grosso     12   194.0 2012-01-01\n",
       "2864  2013  Mato Grosso     12   195.0 2013-01-01\n",
       "2865  2014  Mato Grosso     12    84.0 2014-01-01\n",
       "2866  2015  Mato Grosso     12   394.0 2015-01-01\n",
       "2867  2016  Mato Grosso     12   123.0 2016-01-01\n",
       "\n",
       "[239 rows x 5 columns]"
      ]
     },
     "execution_count": 18,
     "metadata": {},
     "output_type": "execute_result"
    }
   ],
   "source": [
    "matto_grosso_de_sul_mask = df.duplicated(subset=['state','year','month'], keep='first') & (df['state']=='Mato Grosso')\n",
    "df[matto_grosso_de_sul_mask]"
   ]
  },
  {
   "cell_type": "code",
   "execution_count": 19,
   "metadata": {},
   "outputs": [],
   "source": [
    "df.loc[matto_grosso_de_sul_mask, 'state'] = 'Mato Grosso do Sul'"
   ]
  },
  {
   "cell_type": "code",
   "execution_count": 20,
   "metadata": {
    "scrolled": true
   },
   "outputs": [
    {
     "data": {
      "text/html": [
       "<div>\n",
       "<style scoped>\n",
       "    .dataframe tbody tr th:only-of-type {\n",
       "        vertical-align: middle;\n",
       "    }\n",
       "\n",
       "    .dataframe tbody tr th {\n",
       "        vertical-align: top;\n",
       "    }\n",
       "\n",
       "    .dataframe thead th {\n",
       "        text-align: right;\n",
       "    }\n",
       "</style>\n",
       "<table border=\"1\" class=\"dataframe\">\n",
       "  <thead>\n",
       "    <tr style=\"text-align: right;\">\n",
       "      <th></th>\n",
       "      <th>year</th>\n",
       "      <th>state</th>\n",
       "      <th>month</th>\n",
       "      <th>number</th>\n",
       "      <th>date</th>\n",
       "    </tr>\n",
       "  </thead>\n",
       "  <tbody>\n",
       "    <tr>\n",
       "      <th>2629</th>\n",
       "      <td>1998</td>\n",
       "      <td>Mato Grosso do Sul</td>\n",
       "      <td>1</td>\n",
       "      <td>0.0</td>\n",
       "      <td>1998-01-01</td>\n",
       "    </tr>\n",
       "    <tr>\n",
       "      <th>2630</th>\n",
       "      <td>1999</td>\n",
       "      <td>Mato Grosso do Sul</td>\n",
       "      <td>1</td>\n",
       "      <td>239.0</td>\n",
       "      <td>1999-01-01</td>\n",
       "    </tr>\n",
       "    <tr>\n",
       "      <th>2631</th>\n",
       "      <td>2000</td>\n",
       "      <td>Mato Grosso do Sul</td>\n",
       "      <td>1</td>\n",
       "      <td>326.0</td>\n",
       "      <td>2000-01-01</td>\n",
       "    </tr>\n",
       "    <tr>\n",
       "      <th>2632</th>\n",
       "      <td>2001</td>\n",
       "      <td>Mato Grosso do Sul</td>\n",
       "      <td>1</td>\n",
       "      <td>97.0</td>\n",
       "      <td>2001-01-01</td>\n",
       "    </tr>\n",
       "    <tr>\n",
       "      <th>2633</th>\n",
       "      <td>2002</td>\n",
       "      <td>Mato Grosso do Sul</td>\n",
       "      <td>1</td>\n",
       "      <td>304.0</td>\n",
       "      <td>2002-01-01</td>\n",
       "    </tr>\n",
       "  </tbody>\n",
       "</table>\n",
       "</div>"
      ],
      "text/plain": [
       "      year               state  month  number       date\n",
       "2629  1998  Mato Grosso do Sul      1     0.0 1998-01-01\n",
       "2630  1999  Mato Grosso do Sul      1   239.0 1999-01-01\n",
       "2631  2000  Mato Grosso do Sul      1   326.0 2000-01-01\n",
       "2632  2001  Mato Grosso do Sul      1    97.0 2001-01-01\n",
       "2633  2002  Mato Grosso do Sul      1   304.0 2002-01-01"
      ]
     },
     "execution_count": 20,
     "metadata": {},
     "output_type": "execute_result"
    }
   ],
   "source": [
    "df[matto_grosso_de_sul_mask].head()"
   ]
  },
  {
   "cell_type": "code",
   "execution_count": 21,
   "metadata": {
    "collapsed": true
   },
   "outputs": [
    {
     "data": {
      "text/html": [
       "<div>\n",
       "<style scoped>\n",
       "    .dataframe tbody tr th:only-of-type {\n",
       "        vertical-align: middle;\n",
       "    }\n",
       "\n",
       "    .dataframe tbody tr th {\n",
       "        vertical-align: top;\n",
       "    }\n",
       "\n",
       "    .dataframe thead th {\n",
       "        text-align: right;\n",
       "    }\n",
       "</style>\n",
       "<table border=\"1\" class=\"dataframe\">\n",
       "  <thead>\n",
       "    <tr style=\"text-align: right;\">\n",
       "      <th></th>\n",
       "      <th>year</th>\n",
       "      <th>state</th>\n",
       "      <th>month</th>\n",
       "      <th>number</th>\n",
       "      <th>date</th>\n",
       "    </tr>\n",
       "  </thead>\n",
       "  <tbody>\n",
       "    <tr>\n",
       "      <th>2626</th>\n",
       "      <td>2014</td>\n",
       "      <td>Mato Grosso</td>\n",
       "      <td>12</td>\n",
       "      <td>466.000</td>\n",
       "      <td>2014-01-01</td>\n",
       "    </tr>\n",
       "    <tr>\n",
       "      <th>2627</th>\n",
       "      <td>2015</td>\n",
       "      <td>Mato Grosso</td>\n",
       "      <td>12</td>\n",
       "      <td>1.777</td>\n",
       "      <td>2015-01-01</td>\n",
       "    </tr>\n",
       "    <tr>\n",
       "      <th>2628</th>\n",
       "      <td>2016</td>\n",
       "      <td>Mato Grosso</td>\n",
       "      <td>12</td>\n",
       "      <td>425.000</td>\n",
       "      <td>2016-01-01</td>\n",
       "    </tr>\n",
       "    <tr>\n",
       "      <th>2629</th>\n",
       "      <td>1998</td>\n",
       "      <td>Mato Grosso do Sul</td>\n",
       "      <td>1</td>\n",
       "      <td>0.000</td>\n",
       "      <td>1998-01-01</td>\n",
       "    </tr>\n",
       "    <tr>\n",
       "      <th>2630</th>\n",
       "      <td>1999</td>\n",
       "      <td>Mato Grosso do Sul</td>\n",
       "      <td>1</td>\n",
       "      <td>239.000</td>\n",
       "      <td>1999-01-01</td>\n",
       "    </tr>\n",
       "    <tr>\n",
       "      <th>2631</th>\n",
       "      <td>2000</td>\n",
       "      <td>Mato Grosso do Sul</td>\n",
       "      <td>1</td>\n",
       "      <td>326.000</td>\n",
       "      <td>2000-01-01</td>\n",
       "    </tr>\n",
       "  </tbody>\n",
       "</table>\n",
       "</div>"
      ],
      "text/plain": [
       "      year               state  month   number       date\n",
       "2626  2014         Mato Grosso     12  466.000 2014-01-01\n",
       "2627  2015         Mato Grosso     12    1.777 2015-01-01\n",
       "2628  2016         Mato Grosso     12  425.000 2016-01-01\n",
       "2629  1998  Mato Grosso do Sul      1    0.000 1998-01-01\n",
       "2630  1999  Mato Grosso do Sul      1  239.000 1999-01-01\n",
       "2631  2000  Mato Grosso do Sul      1  326.000 2000-01-01"
      ]
     },
     "execution_count": 21,
     "metadata": {},
     "output_type": "execute_result"
    }
   ],
   "source": [
    "df.iloc[2626:2632]"
   ]
  },
  {
   "cell_type": "markdown",
   "metadata": {},
   "source": [
    "**Paraiba and Parana**"
   ]
  },
  {
   "cell_type": "code",
   "execution_count": 22,
   "metadata": {
    "collapsed": true
   },
   "outputs": [
    {
     "data": {
      "text/html": [
       "<div>\n",
       "<style scoped>\n",
       "    .dataframe tbody tr th:only-of-type {\n",
       "        vertical-align: middle;\n",
       "    }\n",
       "\n",
       "    .dataframe tbody tr th {\n",
       "        vertical-align: top;\n",
       "    }\n",
       "\n",
       "    .dataframe thead th {\n",
       "        text-align: right;\n",
       "    }\n",
       "</style>\n",
       "<table border=\"1\" class=\"dataframe\">\n",
       "  <thead>\n",
       "    <tr style=\"text-align: right;\">\n",
       "      <th></th>\n",
       "      <th>year</th>\n",
       "      <th>state</th>\n",
       "      <th>month</th>\n",
       "      <th>number</th>\n",
       "      <th>date</th>\n",
       "    </tr>\n",
       "  </thead>\n",
       "  <tbody>\n",
       "    <tr>\n",
       "      <th>3585</th>\n",
       "      <td>1998</td>\n",
       "      <td>Paraiba</td>\n",
       "      <td>1</td>\n",
       "      <td>0.0</td>\n",
       "      <td>1998-01-01</td>\n",
       "    </tr>\n",
       "    <tr>\n",
       "      <th>3586</th>\n",
       "      <td>1999</td>\n",
       "      <td>Paraiba</td>\n",
       "      <td>1</td>\n",
       "      <td>7.0</td>\n",
       "      <td>1999-01-01</td>\n",
       "    </tr>\n",
       "    <tr>\n",
       "      <th>3587</th>\n",
       "      <td>2000</td>\n",
       "      <td>Paraiba</td>\n",
       "      <td>1</td>\n",
       "      <td>49.0</td>\n",
       "      <td>2000-01-01</td>\n",
       "    </tr>\n",
       "    <tr>\n",
       "      <th>3588</th>\n",
       "      <td>2001</td>\n",
       "      <td>Paraiba</td>\n",
       "      <td>1</td>\n",
       "      <td>32.0</td>\n",
       "      <td>2001-01-01</td>\n",
       "    </tr>\n",
       "    <tr>\n",
       "      <th>3589</th>\n",
       "      <td>2002</td>\n",
       "      <td>Paraiba</td>\n",
       "      <td>1</td>\n",
       "      <td>47.0</td>\n",
       "      <td>2002-01-01</td>\n",
       "    </tr>\n",
       "    <tr>\n",
       "      <th>...</th>\n",
       "      <td>...</td>\n",
       "      <td>...</td>\n",
       "      <td>...</td>\n",
       "      <td>...</td>\n",
       "      <td>...</td>\n",
       "    </tr>\n",
       "    <tr>\n",
       "      <th>3819</th>\n",
       "      <td>2012</td>\n",
       "      <td>Paraiba</td>\n",
       "      <td>12</td>\n",
       "      <td>54.0</td>\n",
       "      <td>2012-01-01</td>\n",
       "    </tr>\n",
       "    <tr>\n",
       "      <th>3820</th>\n",
       "      <td>2013</td>\n",
       "      <td>Paraiba</td>\n",
       "      <td>12</td>\n",
       "      <td>155.0</td>\n",
       "      <td>2013-01-01</td>\n",
       "    </tr>\n",
       "    <tr>\n",
       "      <th>3821</th>\n",
       "      <td>2014</td>\n",
       "      <td>Paraiba</td>\n",
       "      <td>12</td>\n",
       "      <td>78.0</td>\n",
       "      <td>2014-01-01</td>\n",
       "    </tr>\n",
       "    <tr>\n",
       "      <th>3822</th>\n",
       "      <td>2015</td>\n",
       "      <td>Paraiba</td>\n",
       "      <td>12</td>\n",
       "      <td>30.0</td>\n",
       "      <td>2015-01-01</td>\n",
       "    </tr>\n",
       "    <tr>\n",
       "      <th>3823</th>\n",
       "      <td>2016</td>\n",
       "      <td>Paraiba</td>\n",
       "      <td>12</td>\n",
       "      <td>45.0</td>\n",
       "      <td>2016-01-01</td>\n",
       "    </tr>\n",
       "  </tbody>\n",
       "</table>\n",
       "<p>239 rows × 5 columns</p>\n",
       "</div>"
      ],
      "text/plain": [
       "      year    state  month  number       date\n",
       "3585  1998  Paraiba      1     0.0 1998-01-01\n",
       "3586  1999  Paraiba      1     7.0 1999-01-01\n",
       "3587  2000  Paraiba      1    49.0 2000-01-01\n",
       "3588  2001  Paraiba      1    32.0 2001-01-01\n",
       "3589  2002  Paraiba      1    47.0 2002-01-01\n",
       "...    ...      ...    ...     ...        ...\n",
       "3819  2012  Paraiba     12    54.0 2012-01-01\n",
       "3820  2013  Paraiba     12   155.0 2013-01-01\n",
       "3821  2014  Paraiba     12    78.0 2014-01-01\n",
       "3822  2015  Paraiba     12    30.0 2015-01-01\n",
       "3823  2016  Paraiba     12    45.0 2016-01-01\n",
       "\n",
       "[239 rows x 5 columns]"
      ]
     },
     "execution_count": 22,
     "metadata": {},
     "output_type": "execute_result"
    }
   ],
   "source": [
    "parana_mask = df.duplicated(subset=['state','year','month'], keep='first') & (df['state']=='Paraiba')\n",
    "df[parana_mask]"
   ]
  },
  {
   "cell_type": "code",
   "execution_count": 23,
   "metadata": {},
   "outputs": [],
   "source": [
    "df.loc[parana_mask, 'state'] = 'Parana'"
   ]
  },
  {
   "cell_type": "code",
   "execution_count": 24,
   "metadata": {},
   "outputs": [
    {
     "data": {
      "text/html": [
       "<div>\n",
       "<style scoped>\n",
       "    .dataframe tbody tr th:only-of-type {\n",
       "        vertical-align: middle;\n",
       "    }\n",
       "\n",
       "    .dataframe tbody tr th {\n",
       "        vertical-align: top;\n",
       "    }\n",
       "\n",
       "    .dataframe thead th {\n",
       "        text-align: right;\n",
       "    }\n",
       "</style>\n",
       "<table border=\"1\" class=\"dataframe\">\n",
       "  <thead>\n",
       "    <tr style=\"text-align: right;\">\n",
       "      <th></th>\n",
       "      <th>year</th>\n",
       "      <th>state</th>\n",
       "      <th>month</th>\n",
       "      <th>number</th>\n",
       "      <th>date</th>\n",
       "    </tr>\n",
       "  </thead>\n",
       "  <tbody>\n",
       "    <tr>\n",
       "      <th>3585</th>\n",
       "      <td>1998</td>\n",
       "      <td>Parana</td>\n",
       "      <td>1</td>\n",
       "      <td>0.0</td>\n",
       "      <td>1998-01-01</td>\n",
       "    </tr>\n",
       "    <tr>\n",
       "      <th>3586</th>\n",
       "      <td>1999</td>\n",
       "      <td>Parana</td>\n",
       "      <td>1</td>\n",
       "      <td>7.0</td>\n",
       "      <td>1999-01-01</td>\n",
       "    </tr>\n",
       "    <tr>\n",
       "      <th>3587</th>\n",
       "      <td>2000</td>\n",
       "      <td>Parana</td>\n",
       "      <td>1</td>\n",
       "      <td>49.0</td>\n",
       "      <td>2000-01-01</td>\n",
       "    </tr>\n",
       "    <tr>\n",
       "      <th>3588</th>\n",
       "      <td>2001</td>\n",
       "      <td>Parana</td>\n",
       "      <td>1</td>\n",
       "      <td>32.0</td>\n",
       "      <td>2001-01-01</td>\n",
       "    </tr>\n",
       "    <tr>\n",
       "      <th>3589</th>\n",
       "      <td>2002</td>\n",
       "      <td>Parana</td>\n",
       "      <td>1</td>\n",
       "      <td>47.0</td>\n",
       "      <td>2002-01-01</td>\n",
       "    </tr>\n",
       "  </tbody>\n",
       "</table>\n",
       "</div>"
      ],
      "text/plain": [
       "      year   state  month  number       date\n",
       "3585  1998  Parana      1     0.0 1998-01-01\n",
       "3586  1999  Parana      1     7.0 1999-01-01\n",
       "3587  2000  Parana      1    49.0 2000-01-01\n",
       "3588  2001  Parana      1    32.0 2001-01-01\n",
       "3589  2002  Parana      1    47.0 2002-01-01"
      ]
     },
     "execution_count": 24,
     "metadata": {},
     "output_type": "execute_result"
    }
   ],
   "source": [
    "df[parana_mask].head()"
   ]
  },
  {
   "cell_type": "code",
   "execution_count": 25,
   "metadata": {
    "collapsed": true
   },
   "outputs": [
    {
     "data": {
      "text/html": [
       "<div>\n",
       "<style scoped>\n",
       "    .dataframe tbody tr th:only-of-type {\n",
       "        vertical-align: middle;\n",
       "    }\n",
       "\n",
       "    .dataframe tbody tr th {\n",
       "        vertical-align: top;\n",
       "    }\n",
       "\n",
       "    .dataframe thead th {\n",
       "        text-align: right;\n",
       "    }\n",
       "</style>\n",
       "<table border=\"1\" class=\"dataframe\">\n",
       "  <thead>\n",
       "    <tr style=\"text-align: right;\">\n",
       "      <th></th>\n",
       "      <th>year</th>\n",
       "      <th>state</th>\n",
       "      <th>month</th>\n",
       "      <th>number</th>\n",
       "      <th>date</th>\n",
       "    </tr>\n",
       "  </thead>\n",
       "  <tbody>\n",
       "    <tr>\n",
       "      <th>3582</th>\n",
       "      <td>2014</td>\n",
       "      <td>Paraiba</td>\n",
       "      <td>12</td>\n",
       "      <td>62.0</td>\n",
       "      <td>2014-01-01</td>\n",
       "    </tr>\n",
       "    <tr>\n",
       "      <th>3583</th>\n",
       "      <td>2015</td>\n",
       "      <td>Paraiba</td>\n",
       "      <td>12</td>\n",
       "      <td>122.0</td>\n",
       "      <td>2015-01-01</td>\n",
       "    </tr>\n",
       "    <tr>\n",
       "      <th>3584</th>\n",
       "      <td>2016</td>\n",
       "      <td>Paraiba</td>\n",
       "      <td>12</td>\n",
       "      <td>8.0</td>\n",
       "      <td>2016-01-01</td>\n",
       "    </tr>\n",
       "    <tr>\n",
       "      <th>3585</th>\n",
       "      <td>1998</td>\n",
       "      <td>Parana</td>\n",
       "      <td>1</td>\n",
       "      <td>0.0</td>\n",
       "      <td>1998-01-01</td>\n",
       "    </tr>\n",
       "    <tr>\n",
       "      <th>3586</th>\n",
       "      <td>1999</td>\n",
       "      <td>Parana</td>\n",
       "      <td>1</td>\n",
       "      <td>7.0</td>\n",
       "      <td>1999-01-01</td>\n",
       "    </tr>\n",
       "  </tbody>\n",
       "</table>\n",
       "</div>"
      ],
      "text/plain": [
       "      year    state  month  number       date\n",
       "3582  2014  Paraiba     12    62.0 2014-01-01\n",
       "3583  2015  Paraiba     12   122.0 2015-01-01\n",
       "3584  2016  Paraiba     12     8.0 2016-01-01\n",
       "3585  1998   Parana      1     0.0 1998-01-01\n",
       "3586  1999   Parana      1     7.0 1999-01-01"
      ]
     },
     "execution_count": 25,
     "metadata": {},
     "output_type": "execute_result"
    }
   ],
   "source": [
    "df.iloc[3582:3587]"
   ]
  },
  {
   "cell_type": "markdown",
   "metadata": {},
   "source": [
    "**Check to make sure**"
   ]
  },
  {
   "cell_type": "code",
   "execution_count": 26,
   "metadata": {},
   "outputs": [
    {
     "data": {
      "text/plain": [
       "Parana                239\n",
       "Paraiba               239\n",
       "Mato Grosso           239\n",
       "Mato Grosso do Sul    239\n",
       "Name: state, dtype: int64"
      ]
     },
     "execution_count": 26,
     "metadata": {},
     "output_type": "execute_result"
    }
   ],
   "source": [
    "df['state'].value_counts()[['Parana','Paraiba','Mato Grosso','Mato Grosso do Sul']]"
   ]
  },
  {
   "cell_type": "markdown",
   "metadata": {},
   "source": [
    "### Rio states"
   ]
  },
  {
   "cell_type": "markdown",
   "metadata": {},
   "source": [
    "Strategy -\n",
    "\n",
    "* Rename all 'Rio' state to 'Rio de Janeiro'\n",
    "* Take the lower two third of duplicated 'Rio de Janeiro', rename it to 'Rio Grande do Norte'\n",
    "* After renaming, take the lower half of duplicated 'Rio Grande do Norte', rename it to 'Rio Grande do Sul'"
   ]
  },
  {
   "cell_type": "code",
   "execution_count": 27,
   "metadata": {},
   "outputs": [],
   "source": [
    "df.loc[df['state'] == 'Rio', 'state'] = 'Rio de Janeiro'"
   ]
  },
  {
   "cell_type": "code",
   "execution_count": 28,
   "metadata": {
    "collapsed": true
   },
   "outputs": [
    {
     "data": {
      "text/html": [
       "<div>\n",
       "<style scoped>\n",
       "    .dataframe tbody tr th:only-of-type {\n",
       "        vertical-align: middle;\n",
       "    }\n",
       "\n",
       "    .dataframe tbody tr th {\n",
       "        vertical-align: top;\n",
       "    }\n",
       "\n",
       "    .dataframe thead th {\n",
       "        text-align: right;\n",
       "    }\n",
       "</style>\n",
       "<table border=\"1\" class=\"dataframe\">\n",
       "  <thead>\n",
       "    <tr style=\"text-align: right;\">\n",
       "      <th></th>\n",
       "      <th>year</th>\n",
       "      <th>state</th>\n",
       "      <th>month</th>\n",
       "      <th>number</th>\n",
       "      <th>date</th>\n",
       "    </tr>\n",
       "  </thead>\n",
       "  <tbody>\n",
       "    <tr>\n",
       "      <th>4541</th>\n",
       "      <td>1998</td>\n",
       "      <td>Rio de Janeiro</td>\n",
       "      <td>1</td>\n",
       "      <td>0.0</td>\n",
       "      <td>1998-01-01</td>\n",
       "    </tr>\n",
       "    <tr>\n",
       "      <th>4542</th>\n",
       "      <td>1999</td>\n",
       "      <td>Rio de Janeiro</td>\n",
       "      <td>1</td>\n",
       "      <td>32.0</td>\n",
       "      <td>1999-01-01</td>\n",
       "    </tr>\n",
       "    <tr>\n",
       "      <th>4543</th>\n",
       "      <td>2000</td>\n",
       "      <td>Rio de Janeiro</td>\n",
       "      <td>1</td>\n",
       "      <td>1.0</td>\n",
       "      <td>2000-01-01</td>\n",
       "    </tr>\n",
       "    <tr>\n",
       "      <th>4544</th>\n",
       "      <td>2001</td>\n",
       "      <td>Rio de Janeiro</td>\n",
       "      <td>1</td>\n",
       "      <td>2.0</td>\n",
       "      <td>2001-01-01</td>\n",
       "    </tr>\n",
       "    <tr>\n",
       "      <th>4545</th>\n",
       "      <td>2002</td>\n",
       "      <td>Rio de Janeiro</td>\n",
       "      <td>1</td>\n",
       "      <td>4.0</td>\n",
       "      <td>2002-01-01</td>\n",
       "    </tr>\n",
       "    <tr>\n",
       "      <th>...</th>\n",
       "      <td>...</td>\n",
       "      <td>...</td>\n",
       "      <td>...</td>\n",
       "      <td>...</td>\n",
       "      <td>...</td>\n",
       "    </tr>\n",
       "    <tr>\n",
       "      <th>5014</th>\n",
       "      <td>2012</td>\n",
       "      <td>Rio de Janeiro</td>\n",
       "      <td>12</td>\n",
       "      <td>38.0</td>\n",
       "      <td>2012-01-01</td>\n",
       "    </tr>\n",
       "    <tr>\n",
       "      <th>5015</th>\n",
       "      <td>2013</td>\n",
       "      <td>Rio de Janeiro</td>\n",
       "      <td>12</td>\n",
       "      <td>62.0</td>\n",
       "      <td>2013-01-01</td>\n",
       "    </tr>\n",
       "    <tr>\n",
       "      <th>5016</th>\n",
       "      <td>2014</td>\n",
       "      <td>Rio de Janeiro</td>\n",
       "      <td>12</td>\n",
       "      <td>31.0</td>\n",
       "      <td>2014-01-01</td>\n",
       "    </tr>\n",
       "    <tr>\n",
       "      <th>5017</th>\n",
       "      <td>2015</td>\n",
       "      <td>Rio de Janeiro</td>\n",
       "      <td>12</td>\n",
       "      <td>42.0</td>\n",
       "      <td>2015-01-01</td>\n",
       "    </tr>\n",
       "    <tr>\n",
       "      <th>5018</th>\n",
       "      <td>2016</td>\n",
       "      <td>Rio de Janeiro</td>\n",
       "      <td>12</td>\n",
       "      <td>79.0</td>\n",
       "      <td>2016-01-01</td>\n",
       "    </tr>\n",
       "  </tbody>\n",
       "</table>\n",
       "<p>478 rows × 5 columns</p>\n",
       "</div>"
      ],
      "text/plain": [
       "      year           state  month  number       date\n",
       "4541  1998  Rio de Janeiro      1     0.0 1998-01-01\n",
       "4542  1999  Rio de Janeiro      1    32.0 1999-01-01\n",
       "4543  2000  Rio de Janeiro      1     1.0 2000-01-01\n",
       "4544  2001  Rio de Janeiro      1     2.0 2001-01-01\n",
       "4545  2002  Rio de Janeiro      1     4.0 2002-01-01\n",
       "...    ...             ...    ...     ...        ...\n",
       "5014  2012  Rio de Janeiro     12    38.0 2012-01-01\n",
       "5015  2013  Rio de Janeiro     12    62.0 2013-01-01\n",
       "5016  2014  Rio de Janeiro     12    31.0 2014-01-01\n",
       "5017  2015  Rio de Janeiro     12    42.0 2015-01-01\n",
       "5018  2016  Rio de Janeiro     12    79.0 2016-01-01\n",
       "\n",
       "[478 rows x 5 columns]"
      ]
     },
     "execution_count": 28,
     "metadata": {},
     "output_type": "execute_result"
    }
   ],
   "source": [
    "rio_grande_norte_mask = df.duplicated(subset=['state','year','month'], keep='first') & (df['state']=='Rio de Janeiro')\n",
    "df[rio_grande_norte_mask]"
   ]
  },
  {
   "cell_type": "code",
   "execution_count": 29,
   "metadata": {},
   "outputs": [],
   "source": [
    "df.loc[rio_grande_norte_mask, 'state'] = 'Rio Grande do Norte'"
   ]
  },
  {
   "cell_type": "code",
   "execution_count": 30,
   "metadata": {
    "collapsed": true
   },
   "outputs": [
    {
     "data": {
      "text/html": [
       "<div>\n",
       "<style scoped>\n",
       "    .dataframe tbody tr th:only-of-type {\n",
       "        vertical-align: middle;\n",
       "    }\n",
       "\n",
       "    .dataframe tbody tr th {\n",
       "        vertical-align: top;\n",
       "    }\n",
       "\n",
       "    .dataframe thead th {\n",
       "        text-align: right;\n",
       "    }\n",
       "</style>\n",
       "<table border=\"1\" class=\"dataframe\">\n",
       "  <thead>\n",
       "    <tr style=\"text-align: right;\">\n",
       "      <th></th>\n",
       "      <th>year</th>\n",
       "      <th>state</th>\n",
       "      <th>month</th>\n",
       "      <th>number</th>\n",
       "      <th>date</th>\n",
       "    </tr>\n",
       "  </thead>\n",
       "  <tbody>\n",
       "    <tr>\n",
       "      <th>4780</th>\n",
       "      <td>1998</td>\n",
       "      <td>Rio Grande do Norte</td>\n",
       "      <td>1</td>\n",
       "      <td>0.0</td>\n",
       "      <td>1998-01-01</td>\n",
       "    </tr>\n",
       "    <tr>\n",
       "      <th>4781</th>\n",
       "      <td>1999</td>\n",
       "      <td>Rio Grande do Norte</td>\n",
       "      <td>1</td>\n",
       "      <td>63.0</td>\n",
       "      <td>1999-01-01</td>\n",
       "    </tr>\n",
       "    <tr>\n",
       "      <th>4782</th>\n",
       "      <td>2000</td>\n",
       "      <td>Rio Grande do Norte</td>\n",
       "      <td>1</td>\n",
       "      <td>126.0</td>\n",
       "      <td>2000-01-01</td>\n",
       "    </tr>\n",
       "    <tr>\n",
       "      <th>4783</th>\n",
       "      <td>2001</td>\n",
       "      <td>Rio Grande do Norte</td>\n",
       "      <td>1</td>\n",
       "      <td>12.0</td>\n",
       "      <td>2001-01-01</td>\n",
       "    </tr>\n",
       "    <tr>\n",
       "      <th>4784</th>\n",
       "      <td>2002</td>\n",
       "      <td>Rio Grande do Norte</td>\n",
       "      <td>1</td>\n",
       "      <td>265.0</td>\n",
       "      <td>2002-01-01</td>\n",
       "    </tr>\n",
       "    <tr>\n",
       "      <th>...</th>\n",
       "      <td>...</td>\n",
       "      <td>...</td>\n",
       "      <td>...</td>\n",
       "      <td>...</td>\n",
       "      <td>...</td>\n",
       "    </tr>\n",
       "    <tr>\n",
       "      <th>5014</th>\n",
       "      <td>2012</td>\n",
       "      <td>Rio Grande do Norte</td>\n",
       "      <td>12</td>\n",
       "      <td>38.0</td>\n",
       "      <td>2012-01-01</td>\n",
       "    </tr>\n",
       "    <tr>\n",
       "      <th>5015</th>\n",
       "      <td>2013</td>\n",
       "      <td>Rio Grande do Norte</td>\n",
       "      <td>12</td>\n",
       "      <td>62.0</td>\n",
       "      <td>2013-01-01</td>\n",
       "    </tr>\n",
       "    <tr>\n",
       "      <th>5016</th>\n",
       "      <td>2014</td>\n",
       "      <td>Rio Grande do Norte</td>\n",
       "      <td>12</td>\n",
       "      <td>31.0</td>\n",
       "      <td>2014-01-01</td>\n",
       "    </tr>\n",
       "    <tr>\n",
       "      <th>5017</th>\n",
       "      <td>2015</td>\n",
       "      <td>Rio Grande do Norte</td>\n",
       "      <td>12</td>\n",
       "      <td>42.0</td>\n",
       "      <td>2015-01-01</td>\n",
       "    </tr>\n",
       "    <tr>\n",
       "      <th>5018</th>\n",
       "      <td>2016</td>\n",
       "      <td>Rio Grande do Norte</td>\n",
       "      <td>12</td>\n",
       "      <td>79.0</td>\n",
       "      <td>2016-01-01</td>\n",
       "    </tr>\n",
       "  </tbody>\n",
       "</table>\n",
       "<p>239 rows × 5 columns</p>\n",
       "</div>"
      ],
      "text/plain": [
       "      year                state  month  number       date\n",
       "4780  1998  Rio Grande do Norte      1     0.0 1998-01-01\n",
       "4781  1999  Rio Grande do Norte      1    63.0 1999-01-01\n",
       "4782  2000  Rio Grande do Norte      1   126.0 2000-01-01\n",
       "4783  2001  Rio Grande do Norte      1    12.0 2001-01-01\n",
       "4784  2002  Rio Grande do Norte      1   265.0 2002-01-01\n",
       "...    ...                  ...    ...     ...        ...\n",
       "5014  2012  Rio Grande do Norte     12    38.0 2012-01-01\n",
       "5015  2013  Rio Grande do Norte     12    62.0 2013-01-01\n",
       "5016  2014  Rio Grande do Norte     12    31.0 2014-01-01\n",
       "5017  2015  Rio Grande do Norte     12    42.0 2015-01-01\n",
       "5018  2016  Rio Grande do Norte     12    79.0 2016-01-01\n",
       "\n",
       "[239 rows x 5 columns]"
      ]
     },
     "execution_count": 30,
     "metadata": {},
     "output_type": "execute_result"
    }
   ],
   "source": [
    "rio_grande_sul_mask = df.duplicated(subset=['state','year','month'], keep='first') & (df['state']=='Rio Grande do Norte')\n",
    "df[rio_grande_sul_mask]"
   ]
  },
  {
   "cell_type": "code",
   "execution_count": 31,
   "metadata": {},
   "outputs": [],
   "source": [
    "df.loc[rio_grande_sul_mask, 'state'] = 'Rio Grande do Sul'"
   ]
  },
  {
   "cell_type": "markdown",
   "metadata": {},
   "source": [
    "**Check to make sure**"
   ]
  },
  {
   "cell_type": "code",
   "execution_count": 32,
   "metadata": {},
   "outputs": [
    {
     "data": {
      "text/plain": [
       "array(['Acre', 'Alagoas', 'Amapa', 'Amazonas', 'Bahia', 'Ceara',\n",
       "       'Distrito Federal', 'Espirito Santo', 'Goias', 'Maranhao',\n",
       "       'Mato Grosso', 'Mato Grosso do Sul', 'Minas Gerais', 'Pará',\n",
       "       'Paraiba', 'Parana', 'Pernambuco', 'Piau', 'Rio de Janeiro',\n",
       "       'Rio Grande do Norte', 'Rio Grande do Sul', 'Rondonia', 'Roraima',\n",
       "       'Santa Catarina', 'Sao Paulo', 'Sergipe', 'Tocantins'],\n",
       "      dtype=object)"
      ]
     },
     "execution_count": 32,
     "metadata": {},
     "output_type": "execute_result"
    }
   ],
   "source": [
    "df['state'].unique()"
   ]
  },
  {
   "cell_type": "code",
   "execution_count": 33,
   "metadata": {},
   "outputs": [
    {
     "data": {
      "text/plain": [
       "Rio de Janeiro         239\n",
       "Rio Grande do Norte    239\n",
       "Rio Grande do Sul      239\n",
       "Name: state, dtype: int64"
      ]
     },
     "execution_count": 33,
     "metadata": {},
     "output_type": "execute_result"
    }
   ],
   "source": [
    "df['state'].value_counts()[['Rio de Janeiro',\n",
    "       'Rio Grande do Norte', 'Rio Grande do Sul']]"
   ]
  },
  {
   "cell_type": "code",
   "execution_count": 34,
   "metadata": {},
   "outputs": [
    {
     "data": {
      "text/plain": [
       "False"
      ]
     },
     "execution_count": 34,
     "metadata": {},
     "output_type": "execute_result"
    }
   ],
   "source": [
    "(df['state'] == 'Rio').any()"
   ]
  },
  {
   "cell_type": "markdown",
   "metadata": {},
   "source": [
    "### Assign state codes"
   ]
  },
  {
   "cell_type": "code",
   "execution_count": 35,
   "metadata": {},
   "outputs": [
    {
     "data": {
      "text/html": [
       "<div>\n",
       "<style scoped>\n",
       "    .dataframe tbody tr th:only-of-type {\n",
       "        vertical-align: middle;\n",
       "    }\n",
       "\n",
       "    .dataframe tbody tr th {\n",
       "        vertical-align: top;\n",
       "    }\n",
       "\n",
       "    .dataframe thead th {\n",
       "        text-align: right;\n",
       "    }\n",
       "</style>\n",
       "<table border=\"1\" class=\"dataframe\">\n",
       "  <thead>\n",
       "    <tr style=\"text-align: right;\">\n",
       "      <th></th>\n",
       "      <th>name</th>\n",
       "      <th>code</th>\n",
       "      <th>capital</th>\n",
       "      <th>largest city</th>\n",
       "      <th>area_km2</th>\n",
       "      <th>population</th>\n",
       "      <th>density_perkm2</th>\n",
       "      <th>gdp_r$million</th>\n",
       "      <th>hdi</th>\n",
       "    </tr>\n",
       "  </thead>\n",
       "  <tbody>\n",
       "    <tr>\n",
       "      <th>0</th>\n",
       "      <td>Acre</td>\n",
       "      <td>AC</td>\n",
       "      <td>Rio Branco</td>\n",
       "      <td>Rio Branco</td>\n",
       "      <td>164124</td>\n",
       "      <td>881935</td>\n",
       "      <td>5.37</td>\n",
       "      <td>13751</td>\n",
       "      <td>0.719</td>\n",
       "    </tr>\n",
       "    <tr>\n",
       "      <th>1</th>\n",
       "      <td>Alagoas</td>\n",
       "      <td>AL</td>\n",
       "      <td>Maceió</td>\n",
       "      <td>Maceió</td>\n",
       "      <td>27843</td>\n",
       "      <td>3337357</td>\n",
       "      <td>119.86</td>\n",
       "      <td>49456</td>\n",
       "      <td>0.683</td>\n",
       "    </tr>\n",
       "    <tr>\n",
       "      <th>2</th>\n",
       "      <td>Amapá</td>\n",
       "      <td>AP</td>\n",
       "      <td>Macapá</td>\n",
       "      <td>Macapá</td>\n",
       "      <td>142471</td>\n",
       "      <td>845731</td>\n",
       "      <td>5.94</td>\n",
       "      <td>14339</td>\n",
       "      <td>0.740</td>\n",
       "    </tr>\n",
       "    <tr>\n",
       "      <th>3</th>\n",
       "      <td>Amazonas</td>\n",
       "      <td>AM</td>\n",
       "      <td>Manaus</td>\n",
       "      <td>Manaus</td>\n",
       "      <td>1559168</td>\n",
       "      <td>4144597</td>\n",
       "      <td>2.66</td>\n",
       "      <td>89017</td>\n",
       "      <td>0.733</td>\n",
       "    </tr>\n",
       "    <tr>\n",
       "      <th>4</th>\n",
       "      <td>Bahia</td>\n",
       "      <td>BA</td>\n",
       "      <td>Salvador</td>\n",
       "      <td>Salvador</td>\n",
       "      <td>564723</td>\n",
       "      <td>14873064</td>\n",
       "      <td>26.34</td>\n",
       "      <td>258649</td>\n",
       "      <td>0.714</td>\n",
       "    </tr>\n",
       "  </tbody>\n",
       "</table>\n",
       "</div>"
      ],
      "text/plain": [
       "       name code     capital largest city  area_km2  population  \\\n",
       "0      Acre   AC  Rio Branco   Rio Branco    164124      881935   \n",
       "1   Alagoas   AL      Maceió       Maceió     27843     3337357   \n",
       "2     Amapá   AP      Macapá       Macapá    142471      845731   \n",
       "3  Amazonas   AM      Manaus       Manaus   1559168     4144597   \n",
       "4     Bahia   BA    Salvador     Salvador    564723    14873064   \n",
       "\n",
       "   density_perkm2  gdp_r$million    hdi  \n",
       "0            5.37          13751  0.719  \n",
       "1          119.86          49456  0.683  \n",
       "2            5.94          14339  0.740  \n",
       "3            2.66          89017  0.733  \n",
       "4           26.34         258649  0.714  "
      ]
     },
     "execution_count": 35,
     "metadata": {},
     "output_type": "execute_result"
    }
   ],
   "source": [
    "df_states = pd.read_csv('data/states.csv')\n",
    "df_states.head()"
   ]
  },
  {
   "cell_type": "code",
   "execution_count": 36,
   "metadata": {},
   "outputs": [
    {
     "data": {
      "text/html": [
       "<div>\n",
       "<style scoped>\n",
       "    .dataframe tbody tr th:only-of-type {\n",
       "        vertical-align: middle;\n",
       "    }\n",
       "\n",
       "    .dataframe tbody tr th {\n",
       "        vertical-align: top;\n",
       "    }\n",
       "\n",
       "    .dataframe thead th {\n",
       "        text-align: right;\n",
       "    }\n",
       "</style>\n",
       "<table border=\"1\" class=\"dataframe\">\n",
       "  <thead>\n",
       "    <tr style=\"text-align: right;\">\n",
       "      <th></th>\n",
       "      <th>name</th>\n",
       "      <th>code</th>\n",
       "      <th>capital</th>\n",
       "      <th>largest city</th>\n",
       "      <th>area_km2</th>\n",
       "      <th>population</th>\n",
       "      <th>density_perkm2</th>\n",
       "      <th>gdp_r$million</th>\n",
       "      <th>hdi</th>\n",
       "    </tr>\n",
       "  </thead>\n",
       "  <tbody>\n",
       "    <tr>\n",
       "      <th>0</th>\n",
       "      <td>Acre</td>\n",
       "      <td>AC</td>\n",
       "      <td>Rio Branco</td>\n",
       "      <td>Rio Branco</td>\n",
       "      <td>164124</td>\n",
       "      <td>881935</td>\n",
       "      <td>5.37</td>\n",
       "      <td>13751</td>\n",
       "      <td>0.719</td>\n",
       "    </tr>\n",
       "    <tr>\n",
       "      <th>1</th>\n",
       "      <td>Alagoas</td>\n",
       "      <td>AL</td>\n",
       "      <td>Maceio</td>\n",
       "      <td>Maceio</td>\n",
       "      <td>27843</td>\n",
       "      <td>3337357</td>\n",
       "      <td>119.86</td>\n",
       "      <td>49456</td>\n",
       "      <td>0.683</td>\n",
       "    </tr>\n",
       "    <tr>\n",
       "      <th>2</th>\n",
       "      <td>Amapa</td>\n",
       "      <td>AP</td>\n",
       "      <td>Macapa</td>\n",
       "      <td>Macapa</td>\n",
       "      <td>142471</td>\n",
       "      <td>845731</td>\n",
       "      <td>5.94</td>\n",
       "      <td>14339</td>\n",
       "      <td>0.740</td>\n",
       "    </tr>\n",
       "    <tr>\n",
       "      <th>3</th>\n",
       "      <td>Amazonas</td>\n",
       "      <td>AM</td>\n",
       "      <td>Manaus</td>\n",
       "      <td>Manaus</td>\n",
       "      <td>1559168</td>\n",
       "      <td>4144597</td>\n",
       "      <td>2.66</td>\n",
       "      <td>89017</td>\n",
       "      <td>0.733</td>\n",
       "    </tr>\n",
       "    <tr>\n",
       "      <th>4</th>\n",
       "      <td>Bahia</td>\n",
       "      <td>BA</td>\n",
       "      <td>Salvador</td>\n",
       "      <td>Salvador</td>\n",
       "      <td>564723</td>\n",
       "      <td>14873064</td>\n",
       "      <td>26.34</td>\n",
       "      <td>258649</td>\n",
       "      <td>0.714</td>\n",
       "    </tr>\n",
       "  </tbody>\n",
       "</table>\n",
       "</div>"
      ],
      "text/plain": [
       "       name code     capital largest city  area_km2  population  \\\n",
       "0      Acre   AC  Rio Branco   Rio Branco    164124      881935   \n",
       "1   Alagoas   AL      Maceio       Maceio     27843     3337357   \n",
       "2     Amapa   AP      Macapa       Macapa    142471      845731   \n",
       "3  Amazonas   AM      Manaus       Manaus   1559168     4144597   \n",
       "4     Bahia   BA    Salvador     Salvador    564723    14873064   \n",
       "\n",
       "   density_perkm2  gdp_r$million    hdi  \n",
       "0            5.37          13751  0.719  \n",
       "1          119.86          49456  0.683  \n",
       "2            5.94          14339  0.740  \n",
       "3            2.66          89017  0.733  \n",
       "4           26.34         258649  0.714  "
      ]
     },
     "execution_count": 36,
     "metadata": {},
     "output_type": "execute_result"
    }
   ],
   "source": [
    "cols = df_states.select_dtypes(include=[np.object]).columns\n",
    "df_states[cols] = df_states[cols].apply(lambda x: x.str.normalize('NFKD').str.encode('ascii', errors='ignore').str.decode('utf-8'))\n",
    "df_states.head()"
   ]
  },
  {
   "cell_type": "code",
   "execution_count": 37,
   "metadata": {},
   "outputs": [
    {
     "data": {
      "text/html": [
       "<div>\n",
       "<style scoped>\n",
       "    .dataframe tbody tr th:only-of-type {\n",
       "        vertical-align: middle;\n",
       "    }\n",
       "\n",
       "    .dataframe tbody tr th {\n",
       "        vertical-align: top;\n",
       "    }\n",
       "\n",
       "    .dataframe thead th {\n",
       "        text-align: right;\n",
       "    }\n",
       "</style>\n",
       "<table border=\"1\" class=\"dataframe\">\n",
       "  <thead>\n",
       "    <tr style=\"text-align: right;\">\n",
       "      <th></th>\n",
       "      <th>name</th>\n",
       "      <th>code</th>\n",
       "    </tr>\n",
       "  </thead>\n",
       "  <tbody>\n",
       "    <tr>\n",
       "      <th>0</th>\n",
       "      <td>Acre</td>\n",
       "      <td>AC</td>\n",
       "    </tr>\n",
       "    <tr>\n",
       "      <th>1</th>\n",
       "      <td>Alagoas</td>\n",
       "      <td>AL</td>\n",
       "    </tr>\n",
       "    <tr>\n",
       "      <th>2</th>\n",
       "      <td>Amapa</td>\n",
       "      <td>AP</td>\n",
       "    </tr>\n",
       "    <tr>\n",
       "      <th>3</th>\n",
       "      <td>Amazonas</td>\n",
       "      <td>AM</td>\n",
       "    </tr>\n",
       "    <tr>\n",
       "      <th>4</th>\n",
       "      <td>Bahia</td>\n",
       "      <td>BA</td>\n",
       "    </tr>\n",
       "  </tbody>\n",
       "</table>\n",
       "</div>"
      ],
      "text/plain": [
       "       name code\n",
       "0      Acre   AC\n",
       "1   Alagoas   AL\n",
       "2     Amapa   AP\n",
       "3  Amazonas   AM\n",
       "4     Bahia   BA"
      ]
     },
     "execution_count": 37,
     "metadata": {},
     "output_type": "execute_result"
    }
   ],
   "source": [
    "state_code_map = df_states[['name','code']]\n",
    "state_code_map.head()"
   ]
  },
  {
   "cell_type": "code",
   "execution_count": 38,
   "metadata": {},
   "outputs": [
    {
     "data": {
      "text/plain": [
       "array(['Acre', 'Alagoas', 'Amapa', 'Amazonas', 'Bahia', 'Ceara',\n",
       "       'Distrito Federal', 'Espirito Santo', 'Goias', 'Maranhao',\n",
       "       'Mato Grosso', 'Mato Grosso do Sul', 'Minas Gerais', 'Pará',\n",
       "       'Paraiba', 'Parana', 'Pernambuco', 'Piau', 'Rio de Janeiro',\n",
       "       'Rio Grande do Norte', 'Rio Grande do Sul', 'Rondonia', 'Roraima',\n",
       "       'Santa Catarina', 'Sao Paulo', 'Sergipe', 'Tocantins'],\n",
       "      dtype=object)"
      ]
     },
     "execution_count": 38,
     "metadata": {},
     "output_type": "execute_result"
    }
   ],
   "source": [
    "df['state'].unique()"
   ]
  },
  {
   "cell_type": "code",
   "execution_count": 39,
   "metadata": {},
   "outputs": [
    {
     "data": {
      "text/plain": [
       "array(['Acre', 'Alagoas', 'Amapa', 'Amazonas', 'Bahia', 'Ceara',\n",
       "       'Distrito Federal', 'Espirito Santo', 'Goias', 'Maranhao',\n",
       "       'Mato Grosso', 'Mato Grosso do Sul', 'Minas Gerais', 'Para',\n",
       "       'Paraiba', 'Parana', 'Pernambuco', 'Piaui', 'Rio de Janeiro',\n",
       "       'Rio Grande do Norte', 'Rio Grande do Sul', 'Rondonia', 'Roraima',\n",
       "       'Santa Catarina', 'Sao Paulo', 'Sergipe', 'Tocantins'],\n",
       "      dtype=object)"
      ]
     },
     "execution_count": 39,
     "metadata": {},
     "output_type": "execute_result"
    }
   ],
   "source": [
    "df_states['name'].unique()"
   ]
  },
  {
   "cell_type": "code",
   "execution_count": 41,
   "metadata": {},
   "outputs": [],
   "source": [
    "df.loc[df['state']=='Pará', 'state'] = 'Para'\n",
    "df.loc[df['state']=='Piau', 'state'] = 'Piaui'"
   ]
  },
  {
   "cell_type": "code",
   "execution_count": 42,
   "metadata": {},
   "outputs": [],
   "source": [
    "df = df.merge(state_code_map, left_on='state', right_on='name').drop(columns=['name']).rename(columns={'code':'state_code'})"
   ]
  },
  {
   "cell_type": "code",
   "execution_count": 43,
   "metadata": {},
   "outputs": [
    {
     "data": {
      "text/html": [
       "<div>\n",
       "<style scoped>\n",
       "    .dataframe tbody tr th:only-of-type {\n",
       "        vertical-align: middle;\n",
       "    }\n",
       "\n",
       "    .dataframe tbody tr th {\n",
       "        vertical-align: top;\n",
       "    }\n",
       "\n",
       "    .dataframe thead th {\n",
       "        text-align: right;\n",
       "    }\n",
       "</style>\n",
       "<table border=\"1\" class=\"dataframe\">\n",
       "  <thead>\n",
       "    <tr style=\"text-align: right;\">\n",
       "      <th></th>\n",
       "      <th>year</th>\n",
       "      <th>state</th>\n",
       "      <th>month</th>\n",
       "      <th>number</th>\n",
       "      <th>date</th>\n",
       "      <th>state_code</th>\n",
       "    </tr>\n",
       "  </thead>\n",
       "  <tbody>\n",
       "    <tr>\n",
       "      <th>3018</th>\n",
       "      <td>2008</td>\n",
       "      <td>Minas Gerais</td>\n",
       "      <td>8</td>\n",
       "      <td>605.000</td>\n",
       "      <td>2008-01-01</td>\n",
       "      <td>MG</td>\n",
       "    </tr>\n",
       "    <tr>\n",
       "      <th>5904</th>\n",
       "      <td>2006</td>\n",
       "      <td>Sao Paulo</td>\n",
       "      <td>9</td>\n",
       "      <td>694.000</td>\n",
       "      <td>2006-01-01</td>\n",
       "      <td>SP</td>\n",
       "    </tr>\n",
       "    <tr>\n",
       "      <th>440</th>\n",
       "      <td>1999</td>\n",
       "      <td>Alagoas</td>\n",
       "      <td>11</td>\n",
       "      <td>15.000</td>\n",
       "      <td>1999-01-01</td>\n",
       "      <td>AL</td>\n",
       "    </tr>\n",
       "    <tr>\n",
       "      <th>2562</th>\n",
       "      <td>2010</td>\n",
       "      <td>Mato Grosso</td>\n",
       "      <td>9</td>\n",
       "      <td>18.366</td>\n",
       "      <td>2010-01-01</td>\n",
       "      <td>MT</td>\n",
       "    </tr>\n",
       "    <tr>\n",
       "      <th>132</th>\n",
       "      <td>2010</td>\n",
       "      <td>Acre</td>\n",
       "      <td>7</td>\n",
       "      <td>126.000</td>\n",
       "      <td>2010-01-01</td>\n",
       "      <td>AC</td>\n",
       "    </tr>\n",
       "  </tbody>\n",
       "</table>\n",
       "</div>"
      ],
      "text/plain": [
       "      year         state  month   number       date state_code\n",
       "3018  2008  Minas Gerais      8  605.000 2008-01-01         MG\n",
       "5904  2006     Sao Paulo      9  694.000 2006-01-01         SP\n",
       "440   1999       Alagoas     11   15.000 1999-01-01         AL\n",
       "2562  2010   Mato Grosso      9   18.366 2010-01-01         MT\n",
       "132   2010          Acre      7  126.000 2010-01-01         AC"
      ]
     },
     "execution_count": 43,
     "metadata": {},
     "output_type": "execute_result"
    }
   ],
   "source": [
    "df.sample(5)"
   ]
  },
  {
   "cell_type": "code",
   "execution_count": 44,
   "metadata": {},
   "outputs": [
    {
     "data": {
      "text/plain": [
       "array(['AC', 'AL', 'AP', 'AM', 'BA', 'CE', 'DF', 'ES', 'GO', 'MA', 'MT',\n",
       "       'MS', 'MG', 'PA', 'PB', 'PR', 'PE', 'PI', 'RJ', 'RN', 'RS', 'RO',\n",
       "       'RR', 'SC', 'SP', 'SE', 'TO'], dtype=object)"
      ]
     },
     "execution_count": 44,
     "metadata": {},
     "output_type": "execute_result"
    }
   ],
   "source": [
    "df['state_code'].unique()"
   ]
  },
  {
   "cell_type": "code",
   "execution_count": 45,
   "metadata": {},
   "outputs": [
    {
     "name": "stdout",
     "output_type": "stream",
     "text": [
      "<class 'pandas.core.frame.DataFrame'>\n",
      "Int64Index: 6453 entries, 0 to 6452\n",
      "Data columns (total 6 columns):\n",
      " #   Column      Non-Null Count  Dtype         \n",
      "---  ------      --------------  -----         \n",
      " 0   year        6453 non-null   int64         \n",
      " 1   state       6453 non-null   object        \n",
      " 2   month       6453 non-null   int64         \n",
      " 3   number      6453 non-null   float64       \n",
      " 4   date        6453 non-null   datetime64[ns]\n",
      " 5   state_code  6453 non-null   object        \n",
      "dtypes: datetime64[ns](1), float64(1), int64(2), object(2)\n",
      "memory usage: 352.9+ KB\n"
     ]
    }
   ],
   "source": [
    "df.info()"
   ]
  },
  {
   "cell_type": "code",
   "execution_count": null,
   "metadata": {},
   "outputs": [],
   "source": []
  }
 ],
 "metadata": {
  "kernelspec": {
   "display_name": "Python 3",
   "language": "python",
   "name": "python3"
  },
  "language_info": {
   "codemirror_mode": {
    "name": "ipython",
    "version": 3
   },
   "file_extension": ".py",
   "mimetype": "text/x-python",
   "name": "python",
   "nbconvert_exporter": "python",
   "pygments_lexer": "ipython3",
   "version": "3.8.5"
  }
 },
 "nbformat": 4,
 "nbformat_minor": 4
}
